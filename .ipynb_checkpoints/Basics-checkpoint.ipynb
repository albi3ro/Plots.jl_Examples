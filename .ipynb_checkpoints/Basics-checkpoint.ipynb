{
 "cells": [
  {
   "cell_type": "markdown",
   "metadata": {},
   "source": [
    "First, load the package"
   ]
  },
  {
   "cell_type": "code",
   "execution_count": null,
   "metadata": {
    "collapsed": true
   },
   "outputs": [],
   "source": [
    "using Plots"
   ]
  },
  {
   "cell_type": "markdown",
   "metadata": {},
   "source": [
    "Then we choose a backend.  The options are \n",
    "\n",
    "* gr\n",
    "* pyplot\n",
    "* plotlyjs\n",
    "* inspectdr\n",
    "* PGFPlots\n",
    "* UnicodePlots\n",
    "\n",
    "I personally alternate between `gr` or `plotlyjs`. To be able to use a backend, you first need to install the package corresponding to the backend.  Sometimes, especially with `plotlyjs`, dependencies need to be wrangled."
   ]
  },
  {
   "cell_type": "code",
   "execution_count": null,
   "metadata": {},
   "outputs": [],
   "source": [
    "gr()"
   ]
  },
  {
   "cell_type": "markdown",
   "metadata": {},
   "source": [
    "Now let's just create a simple plot."
   ]
  },
  {
   "cell_type": "code",
   "execution_count": null,
   "metadata": {},
   "outputs": [],
   "source": [
    "plot(1:10,(1:10).^2)"
   ]
  },
  {
   "cell_type": "markdown",
   "metadata": {},
   "source": [
    "To alter a plot that you've created, append the `!` exclamation sign to the command.  In julia `!` alters an existing object."
   ]
  },
  {
   "cell_type": "code",
   "execution_count": null,
   "metadata": {},
   "outputs": [],
   "source": [
    "plot!(1:10,1:10)"
   ]
  },
  {
   "cell_type": "markdown",
   "metadata": {},
   "source": [
    "Calling `pyplot(show=true)` opens the plot in a new window. For the other backends, it doesn't open in a new window.  At least for me.  \n",
    "\n",
    "Calling `gui()` is also supposed to open up an interactive window, but that doesn't seem to work for me either... "
   ]
  },
  {
   "cell_type": "code",
   "execution_count": null,
   "metadata": {
    "collapsed": true
   },
   "outputs": [],
   "source": [
    "pyplot(show=true)\n",
    "plot(1:10,1:10)"
   ]
  },
  {
   "cell_type": "markdown",
   "metadata": {},
   "source": [
    "Plots supports many export formats, and automatically detects what one to use by the filename. Now, we can simply save a figure with"
   ]
  },
  {
   "cell_type": "code",
   "execution_count": null,
   "metadata": {},
   "outputs": [],
   "source": [
    "savefig(\"testsave.svg\")"
   ]
  },
  {
   "cell_type": "markdown",
   "metadata": {},
   "source": [
    "I often save `plotlyjs` output as html for interactivity on the gh-pages for my blog.  By default, `savefig` outputs the html file with a call to a script on the local computer. The script is part of the local `plotlyjs` installation.  I would the script to be local if I was working offline.  But when I'm giving the script to be hosted online, I need an online script. Open the file in a text editor, and replace the local script with this one:    \n",
    "\n",
    "    <script src=\"https://cdn.plot.ly/plotly-latest.min.js\"></script>"
   ]
  },
  {
   "cell_type": "code",
   "execution_count": null,
   "metadata": {
    "collapsed": true
   },
   "outputs": [],
   "source": []
  }
 ],
 "metadata": {
  "kernelspec": {
   "display_name": "Julia 0.6.0",
   "language": "julia",
   "name": "julia-0.6"
  },
  "language_info": {
   "file_extension": ".jl",
   "mimetype": "application/julia",
   "name": "julia",
   "version": "0.6.0"
  }
 },
 "nbformat": 4,
 "nbformat_minor": 2
}
